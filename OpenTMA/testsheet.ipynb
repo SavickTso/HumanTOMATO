{
 "cells": [
  {
   "cell_type": "code",
   "execution_count": 3,
   "metadata": {},
   "outputs": [
    {
     "name": "stderr",
     "output_type": "stream",
     "text": [
      "/home/cao/projects/HumanTOMATO/.venv/lib/python3.10/site-packages/huggingface_hub/file_download.py:1132: FutureWarning: `resume_download` is deprecated and will be removed in version 1.0.0. Downloads always resume when possible. If you want to force a new download, use `force_download=True`.\n",
      "  warnings.warn(\n"
     ]
    },
    {
     "name": "stdout",
     "output_type": "stream",
     "text": [
      "torch.Size([1, 256])\n",
      "torch.Size([1, 256])\n"
     ]
    },
    {
     "name": "stderr",
     "output_type": "stream",
     "text": [
      "/home/cao/projects/HumanTOMATO/.venv/lib/python3.10/site-packages/torch/nn/modules/transformer.py:282: UserWarning: enable_nested_tensor is True, but self.use_nested_tensor is False because encoder_layer.self_attn.batch_first was not True(use batch_first for better inference performance)\n",
      "  warnings.warn(f\"enable_nested_tensor is True, but self.use_nested_tensor is False because {why_not_sparsity_fast_path}\")\n"
     ]
    }
   ],
   "source": [
    "# Load text and motion data\n",
    "import torch\n",
    "from transformers import AutoTokenizer, AutoModel\n",
    "from tma.models.architectures.temos.textencoder.distillbert_actor import DistilbertActorAgnosticEncoder\n",
    "from tma.models.architectures.temos.motionencoder.actor import ActorAgnosticEncoder\n",
    "from collections import OrderedDict\n",
    "\n",
    "modelpath = 'distilbert-base-uncased'\n",
    "\n",
    "textencoder = DistilbertActorAgnosticEncoder(modelpath, num_layers=4)\n",
    "motionencoder = ActorAgnosticEncoder(nfeats=126, vae = True, num_layers=4)\n",
    "\n",
    "\"\"\"\n",
    "load model here\n",
    "You need to normalize the motion data with mean and std.\n",
    "For motionx, they are stored in './deps/t2m/motionx/vector_623/Comp_v6_KLD01/meta/*.npy'\n",
    "\"\"\"\n",
    "\n",
    "motion = torch.randn(1, 64, 126)    # B = 1, T = , D = , need normalization\n",
    "lengths = [64]\n",
    "text_loc = textencoder([\"a man is running\"]).loc\n",
    "motion_loc = motionencoder(motion, lengths).loc\n",
    "\n",
    "print(text_loc.shape)\n",
    "print(motion_loc.shape)\n"
   ]
  },
  {
   "cell_type": "markdown",
   "metadata": {},
   "source": [
    "## separate text encoding"
   ]
  },
  {
   "cell_type": "code",
   "execution_count": 5,
   "metadata": {},
   "outputs": [],
   "source": [
    "from sentence_transformers import SentenceTransformer\n",
    "\n",
    "# t2m_textencoder = SentenceTransformer(\n",
    "#                     \"sentence-transformers/sentence-t5-xl\"\n",
    "#                 ).to(\"cuda\")\n",
    "\n",
    "text_encoder = SentenceTransformer(\n",
    "                \"sentence-transformers/paraphrase-MiniLM-L6-v2\"\n",
    "            )"
   ]
  },
  {
   "cell_type": "code",
   "execution_count": 15,
   "metadata": {},
   "outputs": [],
   "source": [
    "import torch.nn.functional as f\n",
    "\n",
    "sbert_embedding = torch.tensor(text_encoder.encode([\"asshole\"]))\n",
    "sbert_embedding = f.normalize(sbert_embedding, dim=1)\n",
    "# append to retrieval_sbert_embedding then save\n",
    "print(sbert_embedding.shape)\n"
   ]
  },
  {
   "cell_type": "code",
   "execution_count": 16,
   "metadata": {},
   "outputs": [
    {
     "name": "stdout",
     "output_type": "stream",
     "text": [
      "torch.Size([1, 384])\n"
     ]
    }
   ],
   "source": []
  },
  {
   "cell_type": "code",
   "execution_count": null,
   "metadata": {},
   "outputs": [],
   "source": []
  }
 ],
 "metadata": {
  "kernelspec": {
   "display_name": "Python 3",
   "language": "python",
   "name": "python3"
  },
  "language_info": {
   "codemirror_mode": {
    "name": "ipython",
    "version": 3
   },
   "file_extension": ".py",
   "mimetype": "text/x-python",
   "name": "python",
   "nbconvert_exporter": "python",
   "pygments_lexer": "ipython3",
   "version": "3.10.12"
  }
 },
 "nbformat": 4,
 "nbformat_minor": 2
}
